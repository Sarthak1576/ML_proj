{
 "cells": [
  {
   "cell_type": "code",
   "execution_count": 51,
   "id": "36383e51-1ff3-4c35-93a5-aafddafe65f2",
   "metadata": {},
   "outputs": [],
   "source": [
    "import yfinance as yf\n",
    "import pandas as pd\n",
    "import numpy as np\n",
    "from sklearn.model_selection import train_test_split\n",
    "from sklearn.linear_model import LogisticRegression\n",
    "from sklearn.metrics import accuracy_score"
   ]
  },
  {
   "cell_type": "code",
   "execution_count": 53,
   "id": "80bc53f5-b3cc-4d93-a1d0-610dcaed320f",
   "metadata": {},
   "outputs": [],
   "source": [
    "def get_rsi(data, period=14):\n",
    "    \n",
    "    delta = data['Close'].diff()\n",
    "    gain = (delta.where(delta > 0, 0)).fillna(0)\n",
    "    loss = (-delta.where(delta < 0, 0)).fillna(0)\n",
    "    avg_gain = gain.rolling(window=period).mean()\n",
    "    avg_loss = loss.rolling(window=period).mean()\n",
    "    rs = avg_gain / avg_loss\n",
    "    rsi = 100 - (100 / (1 + rs))\n",
    "    return rsi"
   ]
  },
  {
   "cell_type": "code",
   "execution_count": 54,
   "id": "cab2da6c-c35a-495b-9d3b-dc6aded3b39d",
   "metadata": {},
   "outputs": [],
   "source": [
    "def get_macd(data, short_window=12, long_window=26, signal_window=9):\n",
    "\n",
    "    short_ema = data['Close'].ewm(span=short_window, adjust=False).mean()\n",
    "    long_ema = data['Close'].ewm(span=long_window, adjust=False).mean()\n",
    "    macd = short_ema - long_ema\n",
    "    signal = macd.ewm(span=signal_window, adjust=False).mean()\n",
    "    histogram = macd - signal\n",
    "    return macd, signal, histogram"
   ]
  },
  {
   "cell_type": "code",
   "execution_count": 55,
   "id": "0f7df22a-7899-4704-8167-bd9349a9de87",
   "metadata": {},
   "outputs": [],
   "source": [
    "def get_bollinger_bands(data, window=20, num_std=2):\n",
    "   \n",
    "    rolling_mean = data['Close'].rolling(window=window).mean()\n",
    "    rolling_std = data['Close'].rolling(window=window).std()\n",
    "    upper_band = rolling_mean + (rolling_std * num_std)\n",
    "    lower_band = rolling_mean - (rolling_std * num_std)\n",
    "    bandwidth = (upper_band - lower_band) / rolling_mean\n",
    "    return upper_band, lower_band, bandwidth\n"
   ]
  },
  {
   "cell_type": "code",
   "execution_count": 56,
   "id": "eefd25cc-4258-4402-817e-3c4cd9291667",
   "metadata": {},
   "outputs": [],
   "source": [
    "def get_momentum(data, period=14):\n",
    " \n",
    "    return data['Close'].diff(period)\n"
   ]
  },
  {
   "cell_type": "code",
   "execution_count": 57,
   "id": "090532bb-13a2-4608-a395-dbd3f9687318",
   "metadata": {},
   "outputs": [],
   "source": [
    "def get_volatility(data, period=14):\n",
    "  \n",
    "    return data['Close'].pct_change().rolling(window=period).std()\n"
   ]
  },
  {
   "cell_type": "code",
   "execution_count": 59,
   "id": "f46ba7bc-d823-4a98-9b4c-e85e2674e24f",
   "metadata": {},
   "outputs": [],
   "source": [
    "def get_stock_data(ticker):\n",
    "    \n",
    "    data = yf.download(ticker, period=\"1y\")  # Download 1 year of data\n",
    "    return data"
   ]
  },
  {
   "cell_type": "code",
   "execution_count": 60,
   "id": "6b91049d-aaf2-47e5-b3c6-8cfb2056db85",
   "metadata": {},
   "outputs": [],
   "source": [
    "def prepare_data(data):\n",
    "    \n",
    "    # Add RSI\n",
    "    data['RSI'] = get_rsi(data)\n",
    "\n",
    "    # Add Moving Averages\n",
    "    data['SMA_10'] = data['Close'].rolling(window=10).mean()\n",
    "    data['SMA_50'] = data['Close'].rolling(window=50).mean()\n",
    "\n",
    "    # Add MACD\n",
    "    macd, signal, histogram = get_macd(data)\n",
    "    data['MACD'] = macd\n",
    "    data['MACD_Signal'] = signal\n",
    "    data['MACD_Histogram'] = histogram\n",
    "\n",
    "    # Add Bollinger Bands\n",
    "    upper_band, lower_band, bandwidth = get_bollinger_bands(data)\n",
    "    data['Bollinger_Upper'] = upper_band\n",
    "    data['Bollinger_Lower'] = lower_band\n",
    "    data['Bollinger_Bandwidth'] = bandwidth\n",
    "\n",
    "    # Add Momentum\n",
    "    data['Momentum'] = get_momentum(data)\n",
    "\n",
    "    # Add Volatility\n",
    "    data['Volatility'] = get_volatility(data)\n",
    "\n",
    "    # Add Volume Change\n",
    "    data['Volume_Change'] = data['Volume'].pct_change()\n",
    "\n",
    "    # Define buy (1) and sell (-1) signals based on RSI and price change\n",
    "    data['Signal'] = 0\n",
    "    data.loc[(data['RSI'] < 30) & (data['Close'].pct_change() > 0), 'Signal'] = 1  # Buy signal\n",
    "    data.loc[(data['RSI'] > 70) & (data['Close'].pct_change() < 0), 'Signal'] = -1  # Sell signal\n",
    "\n",
    "    # Drop rows with NaN values (due to feature calculations)\n",
    "    data.dropna(inplace=True)\n",
    "    return data"
   ]
  },
  {
   "cell_type": "code",
   "execution_count": 61,
   "id": "4d59a629-c612-4c0d-8380-39f2448424c2",
   "metadata": {},
   "outputs": [],
   "source": [
    "def train_model(data):\n",
    " \n",
    "    # Features\n",
    "    features = ['RSI', 'SMA_10', 'SMA_50', 'MACD', 'MACD_Signal', 'MACD_Histogram',\n",
    "                'Bollinger_Upper', 'Bollinger_Lower', 'Bollinger_Bandwidth',\n",
    "                'Momentum', 'Volatility', 'Volume_Change']\n",
    "    X = data[features]\n",
    "    # Target\n",
    "    y = data['Signal']\n",
    "\n",
    "    # Split the data into training and testing sets\n",
    "    X_train, X_test, y_train, y_test = train_test_split(X, y, test_size=0.2, random_state=42)\n",
    "\n",
    "    # Train the Logistic Regression model\n",
    "    model = LogisticRegression(max_iter=1000)\n",
    "    model.fit(X_train, y_train)\n",
    "\n",
    "    # Evaluate the model\n",
    "    y_pred = model.predict(X_test)\n",
    "    accuracy = accuracy_score(y_test, y_pred)\n",
    "    print(f\"Model Accuracy: {accuracy:.2f}\")\n",
    "\n",
    "    return model"
   ]
  },
  {
   "cell_type": "code",
   "execution_count": 62,
   "id": "b1764271-2228-4327-8203-10f1ce449a53",
   "metadata": {},
   "outputs": [],
   "source": [
    "def generate_alerts(data, model):\n",
    "   \n",
    "    # Features\n",
    "    features = ['RSI', 'SMA_10', 'SMA_50', 'MACD', 'MACD_Signal', 'MACD_Histogram',\n",
    "                'Bollinger_Upper', 'Bollinger_Lower', 'Bollinger_Bandwidth',\n",
    "                'Momentum', 'Volatility', 'Volume_Change']\n",
    "    # Predict signals using the trained model\n",
    "    data['Predicted_Signal'] = model.predict(data[features])\n",
    "\n",
    "    # Generate alerts\n",
    "    alerts = []\n",
    "    for i in range(len(data)):\n",
    "        if data['Predicted_Signal'][i] == 1:\n",
    "            alerts.append((\"Buy\", data.index[i], data['Close'][i]))\n",
    "        elif data['Predicted_Signal'][i] == -1:\n",
    "            alerts.append((\"Sell\", data.index[i], data['Close'][i]))\n",
    "        else:\n",
    "            alerts.append((\"Hold\", data.index[i], data['Close'][i]))\n",
    "\n",
    "    return alerts"
   ]
  },
  {
   "cell_type": "code",
   "execution_count": 63,
   "id": "37201abe-cf00-4d6d-88bc-75db6c5f1c05",
   "metadata": {},
   "outputs": [
    {
     "name": "stdin",
     "output_type": "stream",
     "text": [
      "Enter the stock ticker symbol (e.g., AAPL, MSFT, TSLA):  AAPL\n"
     ]
    },
    {
     "name": "stderr",
     "output_type": "stream",
     "text": [
      "[*********************100%***********************]  1 of 1 completed\n"
     ]
    },
    {
     "ename": "TypeError",
     "evalue": "'Timestamp' object is not iterable",
     "output_type": "error",
     "traceback": [
      "\u001b[31m---------------------------------------------------------------------------\u001b[39m",
      "\u001b[31mTypeError\u001b[39m                                 Traceback (most recent call last)",
      "\u001b[36mCell\u001b[39m\u001b[36m \u001b[39m\u001b[32mIn[63]\u001b[39m\u001b[32m, line 25\u001b[39m\n\u001b[32m     22\u001b[39m ticker = \u001b[38;5;28minput\u001b[39m(\u001b[33m\"\u001b[39m\u001b[33mEnter the stock ticker symbol (e.g., AAPL, MSFT, TSLA): \u001b[39m\u001b[33m\"\u001b[39m).strip().upper()\n\u001b[32m     24\u001b[39m \u001b[38;5;66;03m# Analyze the stock\u001b[39;00m\n\u001b[32m---> \u001b[39m\u001b[32m25\u001b[39m \u001b[43manalyze_stock\u001b[49m\u001b[43m(\u001b[49m\u001b[43mticker\u001b[49m\u001b[43m)\u001b[49m\n",
      "\u001b[36mCell\u001b[39m\u001b[36m \u001b[39m\u001b[32mIn[63]\u001b[39m\u001b[32m, line 7\u001b[39m, in \u001b[36manalyze_stock\u001b[39m\u001b[34m(ticker)\u001b[39m\n\u001b[32m      5\u001b[39m \u001b[38;5;66;03m# Fetch and prepare data\u001b[39;00m\n\u001b[32m      6\u001b[39m data = get_stock_data(ticker)\n\u001b[32m----> \u001b[39m\u001b[32m7\u001b[39m data = \u001b[43mprepare_data\u001b[49m\u001b[43m(\u001b[49m\u001b[43mdata\u001b[49m\u001b[43m)\u001b[49m\n\u001b[32m      9\u001b[39m \u001b[38;5;66;03m# Train the model\u001b[39;00m\n\u001b[32m     10\u001b[39m model = train_model(data)\n",
      "\u001b[36mCell\u001b[39m\u001b[36m \u001b[39m\u001b[32mIn[60]\u001b[39m\u001b[32m, line 35\u001b[39m, in \u001b[36mprepare_data\u001b[39m\u001b[34m(data)\u001b[39m\n\u001b[32m     33\u001b[39m \u001b[38;5;66;03m# Define buy (1) and sell (-1) signals based on RSI and price change\u001b[39;00m\n\u001b[32m     34\u001b[39m data[\u001b[33m'\u001b[39m\u001b[33mSignal\u001b[39m\u001b[33m'\u001b[39m] = \u001b[32m0\u001b[39m\n\u001b[32m---> \u001b[39m\u001b[32m35\u001b[39m \u001b[43mdata\u001b[49m\u001b[43m.\u001b[49m\u001b[43mloc\u001b[49m\u001b[43m[\u001b[49m\u001b[43m(\u001b[49m\u001b[43mdata\u001b[49m\u001b[43m[\u001b[49m\u001b[33;43m'\u001b[39;49m\u001b[33;43mRSI\u001b[39;49m\u001b[33;43m'\u001b[39;49m\u001b[43m]\u001b[49m\u001b[43m \u001b[49m\u001b[43m<\u001b[49m\u001b[43m \u001b[49m\u001b[32;43m30\u001b[39;49m\u001b[43m)\u001b[49m\u001b[43m \u001b[49m\u001b[43m&\u001b[49m\u001b[43m \u001b[49m\u001b[43m(\u001b[49m\u001b[43mdata\u001b[49m\u001b[43m[\u001b[49m\u001b[33;43m'\u001b[39;49m\u001b[33;43mClose\u001b[39;49m\u001b[33;43m'\u001b[39;49m\u001b[43m]\u001b[49m\u001b[43m.\u001b[49m\u001b[43mpct_change\u001b[49m\u001b[43m(\u001b[49m\u001b[43m)\u001b[49m\u001b[43m \u001b[49m\u001b[43m>\u001b[49m\u001b[43m \u001b[49m\u001b[32;43m0\u001b[39;49m\u001b[43m)\u001b[49m\u001b[43m,\u001b[49m\u001b[43m \u001b[49m\u001b[33;43m'\u001b[39;49m\u001b[33;43mSignal\u001b[39;49m\u001b[33;43m'\u001b[39;49m\u001b[43m]\u001b[49m = \u001b[32m1\u001b[39m  \u001b[38;5;66;03m# Buy signal\u001b[39;00m\n\u001b[32m     36\u001b[39m data.loc[(data[\u001b[33m'\u001b[39m\u001b[33mRSI\u001b[39m\u001b[33m'\u001b[39m] > \u001b[32m70\u001b[39m) & (data[\u001b[33m'\u001b[39m\u001b[33mClose\u001b[39m\u001b[33m'\u001b[39m].pct_change() < \u001b[32m0\u001b[39m), \u001b[33m'\u001b[39m\u001b[33mSignal\u001b[39m\u001b[33m'\u001b[39m] = -\u001b[32m1\u001b[39m  \u001b[38;5;66;03m# Sell signal\u001b[39;00m\n\u001b[32m     38\u001b[39m \u001b[38;5;66;03m# Drop rows with NaN values (due to feature calculations)\u001b[39;00m\n",
      "\u001b[36mFile \u001b[39m\u001b[32m/Library/Frameworks/Python.framework/Versions/3.13/lib/python3.13/site-packages/pandas/core/indexing.py:907\u001b[39m, in \u001b[36m_LocationIndexer.__setitem__\u001b[39m\u001b[34m(self, key, value)\u001b[39m\n\u001b[32m    905\u001b[39m     maybe_callable = com.apply_if_callable(key, \u001b[38;5;28mself\u001b[39m.obj)\n\u001b[32m    906\u001b[39m     key = \u001b[38;5;28mself\u001b[39m._check_deprecated_callable_usage(key, maybe_callable)\n\u001b[32m--> \u001b[39m\u001b[32m907\u001b[39m indexer = \u001b[38;5;28;43mself\u001b[39;49m\u001b[43m.\u001b[49m\u001b[43m_get_setitem_indexer\u001b[49m\u001b[43m(\u001b[49m\u001b[43mkey\u001b[49m\u001b[43m)\u001b[49m\n\u001b[32m    908\u001b[39m \u001b[38;5;28mself\u001b[39m._has_valid_setitem_indexer(key)\n\u001b[32m    910\u001b[39m iloc = \u001b[38;5;28mself\u001b[39m \u001b[38;5;28;01mif\u001b[39;00m \u001b[38;5;28mself\u001b[39m.name == \u001b[33m\"\u001b[39m\u001b[33miloc\u001b[39m\u001b[33m\"\u001b[39m \u001b[38;5;28;01melse\u001b[39;00m \u001b[38;5;28mself\u001b[39m.obj.iloc\n",
      "\u001b[36mFile \u001b[39m\u001b[32m/Library/Frameworks/Python.framework/Versions/3.13/lib/python3.13/site-packages/pandas/core/indexing.py:774\u001b[39m, in \u001b[36m_LocationIndexer._get_setitem_indexer\u001b[39m\u001b[34m(self, key)\u001b[39m\n\u001b[32m    771\u001b[39m \u001b[38;5;28;01mif\u001b[39;00m \u001b[38;5;28misinstance\u001b[39m(key, \u001b[38;5;28mtuple\u001b[39m):\n\u001b[32m    772\u001b[39m     \u001b[38;5;28;01mwith\u001b[39;00m suppress(IndexingError):\n\u001b[32m    773\u001b[39m         \u001b[38;5;66;03m# suppress \"Too many indexers\"\u001b[39;00m\n\u001b[32m--> \u001b[39m\u001b[32m774\u001b[39m         \u001b[38;5;28;01mreturn\u001b[39;00m \u001b[38;5;28;43mself\u001b[39;49m\u001b[43m.\u001b[49m\u001b[43m_convert_tuple\u001b[49m\u001b[43m(\u001b[49m\u001b[43mkey\u001b[49m\u001b[43m)\u001b[49m\n\u001b[32m    776\u001b[39m \u001b[38;5;28;01mif\u001b[39;00m \u001b[38;5;28misinstance\u001b[39m(key, \u001b[38;5;28mrange\u001b[39m):\n\u001b[32m    777\u001b[39m     \u001b[38;5;66;03m# GH#45479 test_loc_setitem_range_key\u001b[39;00m\n\u001b[32m    778\u001b[39m     key = \u001b[38;5;28mlist\u001b[39m(key)\n",
      "\u001b[36mFile \u001b[39m\u001b[32m/Library/Frameworks/Python.framework/Versions/3.13/lib/python3.13/site-packages/pandas/core/indexing.py:989\u001b[39m, in \u001b[36m_LocationIndexer._convert_tuple\u001b[39m\u001b[34m(self, key)\u001b[39m\n\u001b[32m    985\u001b[39m \u001b[38;5;129m@final\u001b[39m\n\u001b[32m    986\u001b[39m \u001b[38;5;28;01mdef\u001b[39;00m\u001b[38;5;250m \u001b[39m\u001b[34m_convert_tuple\u001b[39m(\u001b[38;5;28mself\u001b[39m, key: \u001b[38;5;28mtuple\u001b[39m) -> \u001b[38;5;28mtuple\u001b[39m:\n\u001b[32m    987\u001b[39m     \u001b[38;5;66;03m# Note: we assume _tupleize_axis_indexer has been called, if necessary.\u001b[39;00m\n\u001b[32m    988\u001b[39m     \u001b[38;5;28mself\u001b[39m._validate_key_length(key)\n\u001b[32m--> \u001b[39m\u001b[32m989\u001b[39m     keyidx = [\u001b[38;5;28;43mself\u001b[39;49m\u001b[43m.\u001b[49m\u001b[43m_convert_to_indexer\u001b[49m\u001b[43m(\u001b[49m\u001b[43mk\u001b[49m\u001b[43m,\u001b[49m\u001b[43m \u001b[49m\u001b[43maxis\u001b[49m\u001b[43m=\u001b[49m\u001b[43mi\u001b[49m\u001b[43m)\u001b[49m \u001b[38;5;28;01mfor\u001b[39;00m i, k \u001b[38;5;129;01min\u001b[39;00m \u001b[38;5;28menumerate\u001b[39m(key)]\n\u001b[32m    990\u001b[39m     \u001b[38;5;28;01mreturn\u001b[39;00m \u001b[38;5;28mtuple\u001b[39m(keyidx)\n",
      "\u001b[36mFile \u001b[39m\u001b[32m/Library/Frameworks/Python.framework/Versions/3.13/lib/python3.13/site-packages/pandas/core/indexing.py:1522\u001b[39m, in \u001b[36m_LocIndexer._convert_to_indexer\u001b[39m\u001b[34m(self, key, axis)\u001b[39m\n\u001b[32m   1520\u001b[39m         \u001b[38;5;28;01mreturn\u001b[39;00m key\n\u001b[32m   1521\u001b[39m     \u001b[38;5;28;01melse\u001b[39;00m:\n\u001b[32m-> \u001b[39m\u001b[32m1522\u001b[39m         \u001b[38;5;28;01mreturn\u001b[39;00m \u001b[38;5;28;43mself\u001b[39;49m\u001b[43m.\u001b[49m\u001b[43m_get_listlike_indexer\u001b[49m\u001b[43m(\u001b[49m\u001b[43mkey\u001b[49m\u001b[43m,\u001b[49m\u001b[43m \u001b[49m\u001b[43maxis\u001b[49m\u001b[43m)\u001b[49m[\u001b[32m1\u001b[39m]\n\u001b[32m   1523\u001b[39m \u001b[38;5;28;01melse\u001b[39;00m:\n\u001b[32m   1524\u001b[39m     \u001b[38;5;28;01mtry\u001b[39;00m:\n",
      "\u001b[36mFile \u001b[39m\u001b[32m/Library/Frameworks/Python.framework/Versions/3.13/lib/python3.13/site-packages/pandas/core/indexing.py:1558\u001b[39m, in \u001b[36m_LocIndexer._get_listlike_indexer\u001b[39m\u001b[34m(self, key, axis)\u001b[39m\n\u001b[32m   1555\u001b[39m ax = \u001b[38;5;28mself\u001b[39m.obj._get_axis(axis)\n\u001b[32m   1556\u001b[39m axis_name = \u001b[38;5;28mself\u001b[39m.obj._get_axis_name(axis)\n\u001b[32m-> \u001b[39m\u001b[32m1558\u001b[39m keyarr, indexer = \u001b[43max\u001b[49m\u001b[43m.\u001b[49m\u001b[43m_get_indexer_strict\u001b[49m\u001b[43m(\u001b[49m\u001b[43mkey\u001b[49m\u001b[43m,\u001b[49m\u001b[43m \u001b[49m\u001b[43maxis_name\u001b[49m\u001b[43m)\u001b[49m\n\u001b[32m   1560\u001b[39m \u001b[38;5;28;01mreturn\u001b[39;00m keyarr, indexer\n",
      "\u001b[36mFile \u001b[39m\u001b[32m/Library/Frameworks/Python.framework/Versions/3.13/lib/python3.13/site-packages/pandas/core/indexes/base.py:6192\u001b[39m, in \u001b[36mIndex._get_indexer_strict\u001b[39m\u001b[34m(self, key, axis_name)\u001b[39m\n\u001b[32m   6190\u001b[39m keyarr = key\n\u001b[32m   6191\u001b[39m \u001b[38;5;28;01mif\u001b[39;00m \u001b[38;5;129;01mnot\u001b[39;00m \u001b[38;5;28misinstance\u001b[39m(keyarr, Index):\n\u001b[32m-> \u001b[39m\u001b[32m6192\u001b[39m     keyarr = \u001b[43mcom\u001b[49m\u001b[43m.\u001b[49m\u001b[43masarray_tuplesafe\u001b[49m\u001b[43m(\u001b[49m\u001b[43mkeyarr\u001b[49m\u001b[43m)\u001b[49m\n\u001b[32m   6194\u001b[39m \u001b[38;5;28;01mif\u001b[39;00m \u001b[38;5;28mself\u001b[39m._index_as_unique:\n\u001b[32m   6195\u001b[39m     indexer = \u001b[38;5;28mself\u001b[39m.get_indexer_for(keyarr)\n",
      "\u001b[36mFile \u001b[39m\u001b[32m/Library/Frameworks/Python.framework/Versions/3.13/lib/python3.13/site-packages/pandas/core/common.py:260\u001b[39m, in \u001b[36masarray_tuplesafe\u001b[39m\u001b[34m(values, dtype)\u001b[39m\n\u001b[32m    256\u001b[39m     result = np.asarray(values, dtype=\u001b[38;5;28mobject\u001b[39m)\n\u001b[32m    258\u001b[39m \u001b[38;5;28;01mif\u001b[39;00m result.ndim == \u001b[32m2\u001b[39m:\n\u001b[32m    259\u001b[39m     \u001b[38;5;66;03m# Avoid building an array of arrays:\u001b[39;00m\n\u001b[32m--> \u001b[39m\u001b[32m260\u001b[39m     values = [\u001b[38;5;28;43mtuple\u001b[39;49m\u001b[43m(\u001b[49m\u001b[43mx\u001b[49m\u001b[43m)\u001b[49m \u001b[38;5;28;01mfor\u001b[39;00m x \u001b[38;5;129;01min\u001b[39;00m values]\n\u001b[32m    261\u001b[39m     result = construct_1d_object_array_from_listlike(values)\n\u001b[32m    263\u001b[39m \u001b[38;5;28;01mreturn\u001b[39;00m result\n",
      "\u001b[31mTypeError\u001b[39m: 'Timestamp' object is not iterable"
     ]
    }
   ],
   "source": [
    "def analyze_stock(ticker):\n",
    "    \"\"\"\n",
    "    Analyzes a stock and provides buy/sell/hold alerts.\n",
    "    \"\"\"\n",
    "    # Fetch and prepare data\n",
    "    data = get_stock_data(ticker)\n",
    "    data = prepare_data(data)\n",
    "\n",
    "    # Train the model\n",
    "    model = train_model(data)\n",
    "\n",
    "    # Generate alerts\n",
    "    alerts = generate_alerts(data, model)\n",
    "\n",
    "    # Print alerts\n",
    "    print(f\"\\nAlerts for {ticker}:\")\n",
    "    for alert in alerts:\n",
    "        print(f\"{alert[0]} Signal at {alert[1]}: Price: {alert[2]}\")\n",
    "\n",
    "if __name__ == \"__main__\":\n",
    "    # Input stock ticker from the user\n",
    "    ticker = input(\"Enter the stock ticker symbol (e.g., AAPL, MSFT, TSLA): \").strip().upper()\n",
    "\n",
    "    # Analyze the stock\n",
    "    analyze_stock(ticker)"
   ]
  },
  {
   "cell_type": "code",
   "execution_count": null,
   "id": "e842e7e4-ad80-4e0c-bb81-1ab9bb1ab8c0",
   "metadata": {},
   "outputs": [],
   "source": []
  }
 ],
 "metadata": {
  "kernelspec": {
   "display_name": "Python 3 (ipykernel)",
   "language": "python",
   "name": "python3"
  },
  "language_info": {
   "codemirror_mode": {
    "name": "ipython",
    "version": 3
   },
   "file_extension": ".py",
   "mimetype": "text/x-python",
   "name": "python",
   "nbconvert_exporter": "python",
   "pygments_lexer": "ipython3",
   "version": "3.13.2"
  }
 },
 "nbformat": 4,
 "nbformat_minor": 5
}
