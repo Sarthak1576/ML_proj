{
 "cells": [
  {
   "cell_type": "code",
   "execution_count": 51,
   "id": "36383e51-1ff3-4c35-93a5-aafddafe65f2",
   "metadata": {},
   "outputs": [],
   "source": [
    "import yfinance as yf\n",
    "import pandas as pd\n",
    "import numpy as np\n",
    "from sklearn.model_selection import train_test_split\n",
    "from sklearn.linear_model import LogisticRegression\n",
    "from sklearn.metrics import accuracy_score"
   ]
  },
  {
   "cell_type": "code",
   "execution_count": 53,
   "id": "80bc53f5-b3cc-4d93-a1d0-610dcaed320f",
   "metadata": {},
   "outputs": [],
   "source": [
    "def get_rsi(data, period=14):\n",
    "    \n",
    "    delta = data['Close'].diff()\n",
    "    gain = (delta.where(delta > 0, 0)).fillna(0)\n",
    "    loss = (-delta.where(delta < 0, 0)).fillna(0)\n",
    "    avg_gain = gain.rolling(window=period).mean()\n",
    "    avg_loss = loss.rolling(window=period).mean()\n",
    "    rs = avg_gain / avg_loss\n",
    "    rsi = 100 - (100 / (1 + rs))\n",
    "    return rsi"
   ]
  },
  {
   "cell_type": "code",
   "execution_count": 54,
   "id": "cab2da6c-c35a-495b-9d3b-dc6aded3b39d",
   "metadata": {},
   "outputs": [],
   "source": [
    "def get_macd(data, short_window=12, long_window=26, signal_window=9):\n",
    "\n",
    "    short_ema = data['Close'].ewm(span=short_window, adjust=False).mean()\n",
    "    long_ema = data['Close'].ewm(span=long_window, adjust=False).mean()\n",
    "    macd = short_ema - long_ema\n",
    "    signal = macd.ewm(span=signal_window, adjust=False).mean()\n",
    "    histogram = macd - signal\n",
    "    return macd, signal, histogram"
   ]
  },
  {
   "cell_type": "code",
   "execution_count": 55,
   "id": "0f7df22a-7899-4704-8167-bd9349a9de87",
   "metadata": {},
   "outputs": [],
   "source": [
    "def get_bollinger_bands(data, window=20, num_std=2):\n",
    "   \n",
    "    rolling_mean = data['Close'].rolling(window=window).mean()\n",
    "    rolling_std = data['Close'].rolling(window=window).std()\n",
    "    upper_band = rolling_mean + (rolling_std * num_std)\n",
    "    lower_band = rolling_mean - (rolling_std * num_std)\n",
    "    bandwidth = (upper_band - lower_band) / rolling_mean\n",
    "    return upper_band, lower_band, bandwidth\n"
   ]
  },
  {
   "cell_type": "code",
   "execution_count": 56,
   "id": "eefd25cc-4258-4402-817e-3c4cd9291667",
   "metadata": {},
   "outputs": [],
   "source": [
    "def get_momentum(data, period=14):\n",
    " \n",
    "    return data['Close'].diff(period)\n"
   ]
  },
  {
   "cell_type": "code",
   "execution_count": 57,
   "id": "090532bb-13a2-4608-a395-dbd3f9687318",
   "metadata": {},
   "outputs": [],
   "source": [
    "def get_volatility(data, period=14):\n",
    "  \n",
    "    return data['Close'].pct_change().rolling(window=period).std()\n"
   ]
  },
  {
   "cell_type": "code",
   "execution_count": 59,
   "id": "f46ba7bc-d823-4a98-9b4c-e85e2674e24f",
   "metadata": {},
   "outputs": [],
   "source": [
    "def get_stock_data(ticker):\n",
    "    \n",
    "    data = yf.download(ticker, period=\"1y\")  # Download 1 year of data\n",
    "    return data"
   ]
  },
  {
   "cell_type": "code",
   "execution_count": 60,
   "id": "6b91049d-aaf2-47e5-b3c6-8cfb2056db85",
   "metadata": {},
   "outputs": [],
   "source": [
    "def prepare_data(data):\n",
    "    \n",
    "    # Add RSI\n",
    "    data['RSI'] = get_rsi(data)\n",
    "\n",
    "    # Add Moving Averages\n",
    "    data['SMA_10'] = data['Close'].rolling(window=10).mean()\n",
    "    data['SMA_50'] = data['Close'].rolling(window=50).mean()\n",
    "\n",
    "    # Add MACD\n",
    "    macd, signal, histogram = get_macd(data)\n",
    "    data['MACD'] = macd\n",
    "    data['MACD_Signal'] = signal\n",
    "    data['MACD_Histogram'] = histogram\n",
    "\n",
    "    # Add Bollinger Bands\n",
    "    upper_band, lower_band, bandwidth = get_bollinger_bands(data)\n",
    "    data['Bollinger_Upper'] = upper_band\n",
    "    data['Bollinger_Lower'] = lower_band\n",
    "    data['Bollinger_Bandwidth'] = bandwidth\n",
    "\n",
    "    # Add Momentum\n",
    "    data['Momentum'] = get_momentum(data)\n",
    "\n",
    "    # Add Volatility\n",
    "    data['Volatility'] = get_volatility(data)\n",
    "\n",
    "    # Add Volume Change\n",
    "    data['Volume_Change'] = data['Volume'].pct_change()\n",
    "\n",
    "    # Define buy (1) and sell (-1) signals based on RSI and price change\n",
    "    data['Signal'] = 0\n",
    "    data.loc[(data['RSI'] < 30) & (data['Close'].pct_change() > 0), 'Signal'] = 1  # Buy signal\n",
    "    data.loc[(data['RSI'] > 70) & (data['Close'].pct_change() < 0), 'Signal'] = -1  # Sell signal\n",
    "\n",
    "    # Drop rows with NaN values (due to feature calculations)\n",
    "    data.dropna(inplace=True)\n",
    "    return data"
   ]
  },
  {
   "cell_type": "code",
   "execution_count": 61,
   "id": "4d59a629-c612-4c0d-8380-39f2448424c2",
   "metadata": {},
   "outputs": [],
   "source": [
    "def train_model(data):\n",
    " \n",
    "    # Features\n",
    "    features = ['RSI', 'SMA_10', 'SMA_50', 'MACD', 'MACD_Signal', 'MACD_Histogram',\n",
    "                'Bollinger_Upper', 'Bollinger_Lower', 'Bollinger_Bandwidth',\n",
    "                'Momentum', 'Volatility', 'Volume_Change']\n",
    "    X = data[features]\n",
    "    # Target\n",
    "    y = data['Signal']\n",
    "\n",
    "    # Split the data into training and testing sets\n",
    "    X_train, X_test, y_train, y_test = train_test_split(X, y, test_size=0.2, random_state=42)\n",
    "\n",
    "    # Train the Logistic Regression model\n",
    "    model = LogisticRegression(max_iter=1000)\n",
    "    model.fit(X_train, y_train)\n",
    "\n",
    "    # Evaluate the model\n",
    "    y_pred = model.predict(X_test)\n",
    "    accuracy = accuracy_score(y_test, y_pred)\n",
    "    print(f\"Model Accuracy: {accuracy:.2f}\")\n",
    "\n",
    "    return model"
   ]
  },
  {
   "cell_type": "code",
   "execution_count": 62,
   "id": "b1764271-2228-4327-8203-10f1ce449a53",
   "metadata": {},
   "outputs": [],
   "source": [
    "def generate_alerts(data, model):\n",
    "   \n",
    "    # Features\n",
    "    features = ['RSI', 'SMA_10', 'SMA_50', 'MACD', 'MACD_Signal', 'MACD_Histogram',\n",
    "                'Bollinger_Upper', 'Bollinger_Lower', 'Bollinger_Bandwidth',\n",
    "                'Momentum', 'Volatility', 'Volume_Change']\n",
    "    # Predict signals using the trained model\n",
    "    data['Predicted_Signal'] = model.predict(data[features])\n",
    "\n",
    "    # Generate alerts\n",
    "    alerts = []\n",
    "    for i in range(len(data)):\n",
    "        if data['Predicted_Signal'][i] == 1:\n",
    "            alerts.append((\"Buy\", data.index[i], data['Close'][i]))\n",
    "        elif data['Predicted_Signal'][i] == -1:\n",
    "            alerts.append((\"Sell\", data.index[i], data['Close'][i]))\n",
    "        else:\n",
    "            alerts.append((\"Hold\", data.index[i], data['Close'][i]))\n",
    "\n",
    "    return alerts"
   ]
  },
  {
   "cell_type": "code",
   "execution_count": null,
   "id": "37201abe-cf00-4d6d-88bc-75db6c5f1c05",
   "metadata": {},
   "outputs": [],
   "source": []
  }
 ],
 "metadata": {
  "kernelspec": {
   "display_name": "Python 3 (ipykernel)",
   "language": "python",
   "name": "python3"
  },
  "language_info": {
   "codemirror_mode": {
    "name": "ipython",
    "version": 3
   },
   "file_extension": ".py",
   "mimetype": "text/x-python",
   "name": "python",
   "nbconvert_exporter": "python",
   "pygments_lexer": "ipython3",
   "version": "3.13.2"
  }
 },
 "nbformat": 4,
 "nbformat_minor": 5
}
