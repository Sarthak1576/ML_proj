{
 "cells": [
  {
   "cell_type": "code",
   "execution_count": 1,
   "id": "36383e51-1ff3-4c35-93a5-aafddafe65f2",
   "metadata": {
    "scrolled": true
   },
   "outputs": [],
   "source": [
    "import yfinance as yf\n",
    "import pandas as pd\n",
    "import numpy as np\n",
    "import matplotlib.pyplot as plt\n",
    "from sklearn.model_selection import train_test_split\n",
    "from sklearn.linear_model import LogisticRegression\n",
    "from sklearn.metrics import accuracy_score\n",
    "from sklearn.preprocessing import StandardScaler\n",
    "from sklearn.impute import SimpleImputer"
   ]
  },
  {
   "cell_type": "code",
   "execution_count": 2,
   "id": "7b1a9397-ebd2-4c8b-883b-6e09cb31523a",
   "metadata": {
    "scrolled": true
   },
   "outputs": [
    {
     "name": "stdin",
     "output_type": "stream",
     "text": [
      "Enter the stock ticker symbol:  aapl\n"
     ]
    },
    {
     "name": "stdout",
     "output_type": "stream",
     "text": [
      "YF.download() has changed argument auto_adjust default to True\n"
     ]
    },
    {
     "name": "stderr",
     "output_type": "stream",
     "text": [
      "[*********************100%***********************]  1 of 1 completed"
     ]
    },
    {
     "name": "stdout",
     "output_type": "stream",
     "text": [
      "Price            Close        High         Low        Open    Volume\n",
      "Ticker            AAPL        AAPL        AAPL        AAPL      AAPL\n",
      "Date                                                                \n",
      "2024-03-25  170.047073  171.131947  168.653644  169.768390  54288300\n",
      "2024-03-26  168.912430  170.614385  168.783036  169.201060  57388400\n",
      "2024-03-27  172.495499  172.784144  169.310541  169.609134  60273300\n",
      "2024-03-28  170.674103  171.420578  169.708660  170.942838  65672700\n",
      "2024-04-01  169.230927  170.445194  168.683508  170.385479  46240500\n"
     ]
    },
    {
     "name": "stderr",
     "output_type": "stream",
     "text": [
      "\n"
     ]
    }
   ],
   "source": [
    "ticker = input(\"Enter the stock ticker symbol: \").strip().upper()\n",
    "data = yf.download(ticker, period=\"1y\") \n",
    "print(data.head()) "
   ]
  },
  {
   "cell_type": "code",
   "execution_count": 3,
   "id": "80bc53f5-b3cc-4d93-a1d0-610dcaed320f",
   "metadata": {},
   "outputs": [],
   "source": [
    "def get_rsi(data, period=14):\n",
    "\n",
    "    delta = data['Close'].diff()\n",
    "    gain = (delta.where(delta > 0, 0)).fillna(0)\n",
    "    loss = (-delta.where(delta < 0, 0)).fillna(0)\n",
    "    \n",
    "    avg_gain = gain.rolling(window=period).mean()\n",
    "    avg_loss = loss.rolling(window=period).mean()\n",
    "    \n",
    "    rs = avg_gain / avg_loss.replace(0, np.nan)  \n",
    "    rsi = 100 - (100 / (1 + rs))\n",
    "    \n",
    "    return rsi\n"
   ]
  },
  {
   "cell_type": "code",
   "execution_count": 4,
   "id": "cab2da6c-c35a-495b-9d3b-dc6aded3b39d",
   "metadata": {},
   "outputs": [],
   "source": [
    "def get_macd(data, short_window=12, long_window=26, signal_window=9):\n",
    "\n",
    "    short_ema = data['Close'].ewm(span=short_window, adjust=False).mean()\n",
    "    long_ema = data['Close'].ewm(span=long_window, adjust=False).mean()\n",
    "    macd = short_ema - long_ema\n",
    "    signal = macd.ewm(span=signal_window, adjust=False).mean()\n",
    "    histogram = macd - signal\n",
    "    return macd, signal, histogram"
   ]
  },
  {
   "cell_type": "code",
   "execution_count": 5,
   "id": "0f7df22a-7899-4704-8167-bd9349a9de87",
   "metadata": {},
   "outputs": [],
   "source": [
    "def get_bollinger_bands(data, window=20, num_std=2):\n",
    "   \n",
    "    rolling_mean = data['Close'].rolling(window=window).mean()\n",
    "    rolling_std = data['Close'].rolling(window=window).std()\n",
    "    upper_band = rolling_mean + (rolling_std * num_std)\n",
    "    lower_band = rolling_mean - (rolling_std * num_std)\n",
    "    bandwidth = (upper_band - lower_band) / rolling_mean\n",
    "    return upper_band, lower_band, bandwidth\n"
   ]
  },
  {
   "cell_type": "code",
   "execution_count": 6,
   "id": "eefd25cc-4258-4402-817e-3c4cd9291667",
   "metadata": {},
   "outputs": [],
   "source": [
    "def get_momentum(data, period=14):\n",
    " \n",
    "    return data['Close'].diff(period)\n"
   ]
  },
  {
   "cell_type": "code",
   "execution_count": 7,
   "id": "090532bb-13a2-4608-a395-dbd3f9687318",
   "metadata": {},
   "outputs": [],
   "source": [
    "def get_volatility(data, period=14):\n",
    "  \n",
    "    return data['Close'].pct_change().rolling(window=period).std()\n"
   ]
  },
  {
   "cell_type": "code",
   "execution_count": 8,
   "id": "f46ba7bc-d823-4a98-9b4c-e85e2674e24f",
   "metadata": {},
   "outputs": [],
   "source": [
    "def get_stock_data(ticker):\n",
    "    \n",
    "    data = yf.download(ticker, period=\"1y\") \n",
    "    return data"
   ]
  },
  {
   "cell_type": "code",
   "execution_count": 9,
   "id": "6b91049d-aaf2-47e5-b3c6-8cfb2056db85",
   "metadata": {},
   "outputs": [],
   "source": [
    "def prepare_data(data):\n",
    "    \n",
    "    \n",
    "    data['Price_Change'] = data['Close'].pct_change()\n",
    "\n",
    "    data['RSI'] = get_rsi(data)\n",
    "\n",
    "    if 'RSI' not in data.columns:\n",
    "        raise ValueError(\"RSI column not created. Check get_rsi() function.\")\n",
    "\n",
    "    data['SMA_10'] = data['Close'].rolling(window=10).mean()\n",
    "    data['SMA_50'] = data['Close'].rolling(window=50).mean()\n",
    "\n",
    "    macd, signal, histogram = get_macd(data)\n",
    "    data['MACD'] = macd\n",
    "    data['MACD_Signal'] = signal\n",
    "    data['MACD_Histogram'] = histogram\n",
    "\n",
    "    upper_band, lower_band, bandwidth = get_bollinger_bands(data)\n",
    "    data['Bollinger_Upper'] = upper_band\n",
    "    data['Bollinger_Lower'] = lower_band\n",
    "    data['Bollinger_Bandwidth'] = bandwidth\n",
    "\n",
    "    data['Momentum'] = get_momentum(data)\n",
    "\n",
    "    data['Volatility'] = get_volatility(data)\n",
    "\n",
    "    data['Volume_Change'] = data['Volume'].pct_change().fillna(0)\n",
    "\n",
    "    buy_condition = (data['RSI'] < 30) & (data['Price_Change'] > 0)\n",
    "    buy_condition = buy_condition.fillna(False) \n",
    "    sell_condition = (data['RSI'] > 70) & (data['Price_Change'] < 0)\n",
    "    sell_condition = sell_condition.fillna(False)  \n",
    "\n",
    "    data['Signal'] = 0\n",
    "    data.loc[buy_condition, 'Signal'] = 1  \n",
    "    data.loc[sell_condition, 'Signal'] = -1 \n",
    "\n",
    "    return data"
   ]
  },
  {
   "cell_type": "code",
   "execution_count": 10,
   "id": "4d59a629-c612-4c0d-8380-39f2448424c2",
   "metadata": {},
   "outputs": [],
   "source": [
    "def prepare_data(data):\n",
    "    \n",
    "    data['Price_Change'] = data['Close'].pct_change()\n",
    "\n",
    "    data['RSI'] = get_rsi(data)\n",
    "\n",
    "    if 'RSI' not in data.columns:\n",
    "        raise ValueError(\"RSI column not created. Check get_rsi() function.\")\n",
    "\n",
    "    data['SMA_10'] = data['Close'].rolling(window=10).mean()\n",
    "    data['SMA_50'] = data['Close'].rolling(window=50).mean()\n",
    "\n",
    "    macd, signal, histogram = get_macd(data)\n",
    "    data['MACD'] = macd\n",
    "    data['MACD_Signal'] = signal\n",
    "    data['MACD_Histogram'] = histogram\n",
    "\n",
    "    upper_band, lower_band, bandwidth = get_bollinger_bands(data)\n",
    "    data['Bollinger_Upper'] = upper_band\n",
    "    data['Bollinger_Lower'] = lower_band\n",
    "    data['Bollinger_Bandwidth'] = bandwidth\n",
    "\n",
    "    data['Momentum'] = get_momentum(data)\n",
    "\n",
    "    data['Volatility'] = get_volatility(data)\n",
    "\n",
    "    data['Volume_Change'] = data['Volume'].pct_change().fillna(0)\n",
    "\n",
    "    buy_condition = (data['RSI'] < 30) & (data['Price_Change'] > 0)\n",
    "    buy_condition = buy_condition.fillna(False)  \n",
    "    sell_condition = (data['RSI'] > 70) & (data['Price_Change'] < 0)\n",
    "    sell_condition = sell_condition.fillna(False) \n",
    "\n",
    "    data['Signal'] = 0\n",
    "    data.loc[buy_condition, 'Signal'] = 1 \n",
    "    data.loc[sell_condition, 'Signal'] = -1  \n",
    "\n",
    "    data.dropna(inplace=True)\n",
    "    return data"
   ]
  },
  {
   "cell_type": "code",
   "execution_count": 15,
   "id": "9f35f34a-c031-4e28-9a25-a40623d377d5",
   "metadata": {},
   "outputs": [],
   "source": [
    "def train_model(data):\n",
    "    features = ['RSI', 'SMA_10', 'SMA_50', 'MACD', 'MACD_Signal', 'MACD_Histogram',\n",
    "                'Bollinger_Upper', 'Bollinger_Lower', 'Bollinger_Bandwidth',\n",
    "                'Momentum', 'Volatility', 'Volume_Change']\n",
    "    \n",
    "    missing_cols = [col for col in features if col not in data.columns]\n",
    "    if missing_cols:\n",
    "        raise ValueError(f\"Missing required columns in data: {missing_cols}\")\n",
    "\n",
    "    X = data[features]\n",
    "    y = data.get('Signal') \n",
    "\n",
    "    if y is None:\n",
    "        raise ValueError(\"Target variable 'Signal' is missing from the dataset.\")\n",
    "\n",
    "    y = y.to_frame()\n",
    "\n",
    "    imputer = SimpleImputer(strategy=\"mean\")\n",
    "    X = pd.DataFrame(imputer.fit_transform(X), columns=features, index=data.index)\n",
    "\n",
    "    y.dropna(inplace=True)\n",
    "\n",
    "    X = X.loc[y.index]\n",
    "\n",
    "    X_train, X_test, y_train, y_test = train_test_split(X, y, test_size=0.2, random_state=42)\n",
    "\n",
    "    scaler = StandardScaler()\n",
    "    X_train = scaler.fit_transform(X_train)\n",
    "    X_test = scaler.transform(X_test)\n",
    "\n",
    "    model = LogisticRegression(max_iter=1000)\n",
    "    model.fit(X_train, y_train.values.ravel())\n",
    "\n",
    "    y_pred = model.predict(X_test)\n",
    "\n",
    "    accuracy = accuracy_score(y_test, y_pred)\n",
    "    best_rf = LogisticRegression()  # Example, replace with your actual model\n",
    "    best_rf.fit(X_train, y_train)  # Ensure training is done\n",
    "    with open('ML_Model.pkl', 'wb') as file:\n",
    "       pickle.dump(best_rf, file)\n",
    "    \n",
    "    return model, accuracy "
   ]
  },
  {
   "cell_type": "code",
   "execution_count": 16,
   "id": "b1764271-2228-4327-8203-10f1ce449a53",
   "metadata": {
    "scrolled": true
   },
   "outputs": [],
   "source": [
    "def generate_alerts(data, model):\n",
    "    features = ['RSI', 'SMA_10', 'SMA_50', 'MACD', 'MACD_Signal', 'MACD_Histogram',\n",
    "                'Bollinger_Upper', 'Bollinger_Lower', 'Bollinger_Bandwidth',\n",
    "                'Momentum', 'Volatility', 'Volume_Change']\n",
    "    \n",
    "    data['Predicted_Signal'] = model.predict(data[features])\n",
    "    \n",
    "    alerts = []\n",
    "    if data['Predicted_Signal'].iloc[-1] == 1:\n",
    "            alerts.append((\"Buy\", data.index[-1], data['Close'].iloc[-1]))\n",
    "    elif data['Predicted_Signal'].iloc[-1] == -1:\n",
    "            alerts.append((\"Sell\", data.index[-1], data['Close'].iloc[-1]))\n",
    "    else:\n",
    "            alerts.append((\"Hold\", data.index[-1], data['Close'].iloc[-1]))\n",
    "\n",
    "    return alerts\n"
   ]
  },
  {
   "cell_type": "code",
   "execution_count": 18,
   "id": "37201abe-cf00-4d6d-88bc-75db6c5f1c05",
   "metadata": {
    "scrolled": true
   },
   "outputs": [
    {
     "name": "stdin",
     "output_type": "stream",
     "text": [
      "Enter the stock ticker symbol:  aapl\n"
     ]
    },
    {
     "name": "stderr",
     "output_type": "stream",
     "text": [
      "[*********************100%***********************]  1 of 1 completed"
     ]
    },
    {
     "name": "stdout",
     "output_type": "stream",
     "text": [
      "\n",
      "Alerts for AAPL:\n",
      "Hold Signal at 2025-03-25 00:00:00: Price: Ticker\n",
      "AAPL    222.175003\n",
      "Name: 2025-03-25 00:00:00, dtype: float64\n",
      "\n",
      "Model Accuracy for AAPL: 1.00\n"
     ]
    },
    {
     "name": "stderr",
     "output_type": "stream",
     "text": [
      "\n",
      "/Library/Frameworks/Python.framework/Versions/3.13/lib/python3.13/site-packages/sklearn/utils/validation.py:1408: DataConversionWarning: A column-vector y was passed when a 1d array was expected. Please change the shape of y to (n_samples, ), for example using ravel().\n",
      "  y = column_or_1d(y, warn=True)\n"
     ]
    }
   ],
   "source": [
    "def analyze_stock(ticker):\n",
    "    \n",
    "    data = get_stock_data(ticker)\n",
    "    data = prepare_data(data)\n",
    "\n",
    "    model, accuracy = train_model(data)  \n",
    "\n",
    "    alerts = generate_alerts(data, model)\n",
    "\n",
    "    print(f\"\\nAlerts for {ticker}:\")\n",
    "    for alert in alerts:\n",
    "        print(f\"{alert[0]} Signal at {alert[1]}: Price: {alert[2]}\")\n",
    "\n",
    "    return accuracy\n",
    "\n",
    "if __name__ == \"__main__\":\n",
    "   \n",
    "    ticker = input(\"Enter the stock ticker symbol: \").strip().upper()\n",
    "\n",
    "    accuracy = analyze_stock(ticker)  \n",
    "    \n",
    "    print(f\"\\nModel Accuracy for {ticker}: {accuracy:.2f}\")"
   ]
  },
  {
   "cell_type": "code",
   "execution_count": 14,
   "id": "3929c722-b444-480c-9931-dbe758a5878c",
   "metadata": {},
   "outputs": [],
   "source": [
    "import joblib\n",
    "import pickle"
   ]
  },
  {
   "cell_type": "code",
   "execution_count": null,
   "id": "68a7f59c-ce5f-443c-898c-53d52d482ed3",
   "metadata": {},
   "outputs": [],
   "source": []
  }
 ],
 "metadata": {
  "kernelspec": {
   "display_name": "Python 3 (ipykernel)",
   "language": "python",
   "name": "python3"
  },
  "language_info": {
   "codemirror_mode": {
    "name": "ipython",
    "version": 3
   },
   "file_extension": ".py",
   "mimetype": "text/x-python",
   "name": "python",
   "nbconvert_exporter": "python",
   "pygments_lexer": "ipython3",
   "version": "3.13.2"
  }
 },
 "nbformat": 4,
 "nbformat_minor": 5
}
