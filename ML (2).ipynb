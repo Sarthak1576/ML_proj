{
 "cells": [
  {
   "cell_type": "code",
   "execution_count": 51,
   "id": "36383e51-1ff3-4c35-93a5-aafddafe65f2",
   "metadata": {},
   "outputs": [],
   "source": [
    "import yfinance as yf\n",
    "import pandas as pd\n",
    "import numpy as np\n",
    "from sklearn.model_selection import train_test_split\n",
    "from sklearn.linear_model import LogisticRegression\n",
    "from sklearn.metrics import accuracy_score"
   ]
  },
  {
   "cell_type": "code",
   "execution_count": 74,
   "id": "80bc53f5-b3cc-4d93-a1d0-610dcaed320f",
   "metadata": {},
   "outputs": [],
   "source": [
    "def get_rsi(data, period=14):\n",
    "   \n",
    "    delta = data['Close'].diff()\n",
    "    gain = (delta.where(delta > 0, 0)).fillna(0)\n",
    "    loss = (-delta.where(delta < 0, 0)).fillna(0)\n",
    "    \n",
    "    avg_gain = gain.rolling(window=period).mean()\n",
    "    avg_loss = loss.rolling(window=period).mean()\n",
    "    \n",
    "    # Prevent division by zero\n",
    "    rs = avg_gain / avg_loss.replace(0, np.nan)  # Replace 0 with NaN to avoid division by zero\n",
    "    rsi = 100 - (100 / (1 + rs))\n",
    "    \n",
    "    return rsi"
   ]
  },
  {
   "cell_type": "code",
   "execution_count": 75,
   "id": "cab2da6c-c35a-495b-9d3b-dc6aded3b39d",
   "metadata": {},
   "outputs": [],
   "source": [
    "def get_macd(data, short_window=12, long_window=26, signal_window=9):\n",
    "\n",
    "    short_ema = data['Close'].ewm(span=short_window, adjust=False).mean()\n",
    "    long_ema = data['Close'].ewm(span=long_window, adjust=False).mean()\n",
    "    macd = short_ema - long_ema\n",
    "    signal = macd.ewm(span=signal_window, adjust=False).mean()\n",
    "    histogram = macd - signal\n",
    "    return macd, signal, histogram"
   ]
  },
  {
   "cell_type": "code",
   "execution_count": 76,
   "id": "0f7df22a-7899-4704-8167-bd9349a9de87",
   "metadata": {},
   "outputs": [],
   "source": [
    "def get_bollinger_bands(data, window=20, num_std=2):\n",
    "   \n",
    "    rolling_mean = data['Close'].rolling(window=window).mean()\n",
    "    rolling_std = data['Close'].rolling(window=window).std()\n",
    "    upper_band = rolling_mean + (rolling_std * num_std)\n",
    "    lower_band = rolling_mean - (rolling_std * num_std)\n",
    "    bandwidth = (upper_band - lower_band) / rolling_mean\n",
    "    return upper_band, lower_band, bandwidth\n"
   ]
  },
  {
   "cell_type": "code",
   "execution_count": 56,
   "id": "eefd25cc-4258-4402-817e-3c4cd9291667",
   "metadata": {},
   "outputs": [],
   "source": [
    "def get_momentum(data, period=14):\n",
    " \n",
    "    return data['Close'].diff(period)\n"
   ]
  },
  {
   "cell_type": "code",
   "execution_count": 57,
   "id": "090532bb-13a2-4608-a395-dbd3f9687318",
   "metadata": {},
   "outputs": [],
   "source": [
    "def get_volatility(data, period=14):\n",
    "  \n",
    "    return data['Close'].pct_change().rolling(window=period).std()\n"
   ]
  },
  {
   "cell_type": "code",
   "execution_count": 59,
   "id": "f46ba7bc-d823-4a98-9b4c-e85e2674e24f",
   "metadata": {},
   "outputs": [],
   "source": [
    "def get_stock_data(ticker):\n",
    "    \n",
    "    data = yf.download(ticker, period=\"1y\")  # Download 1 year of data\n",
    "    return data"
   ]
  },
  {
   "cell_type": "code",
   "execution_count": 79,
   "id": "6b91049d-aaf2-47e5-b3c6-8cfb2056db85",
   "metadata": {},
   "outputs": [],
   "source": [
    "def prepare_data(data):\n",
    "    \"\"\"\n",
    "    Prepares the data for machine learning by adding features and labels.\n",
    "    \"\"\"\n",
    "\n",
    "    # Calculate price changes FIRST\n",
    "    data['Price_Change'] = data['Close'].pct_change()\n",
    "\n",
    "    # Add RSI\n",
    "    data['RSI'] = get_rsi(data)\n",
    "\n",
    "    # Check if RSI was created successfully (case insensitive)\n",
    "    rsi_column_names = ['RSI', 'rsi', 'Rsi']\n",
    "    if not any(col in data.columns for col in rsi_column_names):\n",
    "        raise ValueError(\"RSI column not created. Check get_rsi() function.\")\n",
    "\n",
    "    # Add Moving Averages\n",
    "    data['SMA_10'] = data['Close'].rolling(window=10).mean()\n",
    "    data['SMA_50'] = data['Close'].rolling(window=50).mean()\n",
    "\n",
    "    # Add MACD\n",
    "    macd, signal, histogram = get_macd(data)\n",
    "    data['MACD'] = macd\n",
    "    data['MACD_Signal'] = signal\n",
    "    data['MACD_Histogram'] = histogram\n",
    "\n",
    "    # Add Bollinger Bands\n",
    "    upper_band, lower_band, bandwidth = get_bollinger_bands(data)\n",
    "    data['Bollinger_Upper'] = upper_band\n",
    "    data['Bollinger_Lower'] = lower_band\n",
    "    data['Bollinger_Bandwidth'] = bandwidth\n",
    "\n",
    "    # Add Momentum\n",
    "    data['Momentum'] = get_momentum(data)\n",
    "\n",
    "    # Add Volatility\n",
    "    data['Volatility'] = get_volatility(data)\n",
    "\n",
    "    # Add Volume Change\n",
    "    data['Volume_Change'] = data['Volume'].pct_change().fillna(0)\n",
    "\n",
    "    # Define buy/sell signals with NaN handling\n",
    "    data['Signal'] = 0  # Ensure indentation is correct\n",
    "\n",
    "    buy_condition = (data['RSI'] < 30) & (data['Price_Change'] > 0)\n",
    "    buy_condition.fillna(False, inplace=True)  # Fix NaN handling\n",
    "    data.loc[buy_condition, 'Signal'] = 1  # Buy signal\n",
    "\n",
    "    sell_condition = (data['RSI'] > 70) & (data['Price_Change'] < 0)\n",
    "    sell_condition.fillna(False, inplace=True)  # Fix NaN handling\n",
    "    data.loc[sell_condition, 'Signal'] = -1  # Sell signal\n",
    "\n",
    "    # Drop rows with NaN values (due to feature calculations)\n",
    "    data.dropna(inplace=True)\n",
    "\n",
    "    return data\n",
    "\n"
   ]
  },
  {
   "cell_type": "code",
   "execution_count": 80,
   "id": "4d59a629-c612-4c0d-8380-39f2448424c2",
   "metadata": {},
   "outputs": [],
   "source": [
    "def train_model(data):\n",
    " \n",
    "    # Features\n",
    "    features = ['RSI', 'SMA_10', 'SMA_50', 'MACD', 'MACD_Signal', 'MACD_Histogram',\n",
    "                'Bollinger_Upper', 'Bollinger_Lower', 'Bollinger_Bandwidth',\n",
    "                'Momentum', 'Volatility', 'Volume_Change']\n",
    "    X = data[features]\n",
    "    # Target\n",
    "    y = data['Signal']\n",
    "\n",
    "    # Split the data into training and testing sets\n",
    "    X_train, X_test, y_train, y_test = train_test_split(X, y, test_size=0.2, random_state=42)\n",
    "\n",
    "    # Train the Logistic Regression model\n",
    "    model = LogisticRegression(max_iter=1000)\n",
    "    model.fit(X_train, y_train)\n",
    "\n",
    "    # Evaluate the model\n",
    "    y_pred = model.predict(X_test)\n",
    "    accuracy = accuracy_score(y_test, y_pred)\n",
    "    print(f\"Model Accuracy: {accuracy:.2f}\")\n",
    "\n",
    "    return model"
   ]
  },
  {
   "cell_type": "code",
   "execution_count": 81,
   "id": "b1764271-2228-4327-8203-10f1ce449a53",
   "metadata": {},
   "outputs": [],
   "source": [
    "def generate_alerts(data, model):\n",
    "   \n",
    "    # Features\n",
    "    features = ['RSI', 'SMA_10', 'SMA_50', 'MACD', 'MACD_Signal', 'MACD_Histogram',\n",
    "                'Bollinger_Upper', 'Bollinger_Lower', 'Bollinger_Bandwidth',\n",
    "                'Momentum', 'Volatility', 'Volume_Change']\n",
    "    # Predict signals using the trained model\n",
    "    data['Predicted_Signal'] = model.predict(data[features])\n",
    "\n",
    "    # Generate alerts\n",
    "    alerts = []\n",
    "    for i in range(len(data)):\n",
    "        if data['Predicted_Signal'][i] == 1:\n",
    "            alerts.append((\"Buy\", data.index[i], data['Close'][i]))\n",
    "        elif data['Predicted_Signal'][i] == -1:\n",
    "            alerts.append((\"Sell\", data.index[i], data['Close'][i]))\n",
    "        else:\n",
    "            alerts.append((\"Hold\", data.index[i], data['Close'][i]))\n",
    "\n",
    "    return alerts"
   ]
  },
  {
   "cell_type": "code",
   "execution_count": 82,
   "id": "37201abe-cf00-4d6d-88bc-75db6c5f1c05",
   "metadata": {},
   "outputs": [
    {
     "name": "stdin",
     "output_type": "stream",
     "text": [
      "Enter the stock ticker symbol (e.g., AAPL, MSFT, TSLA):  AAPL\n"
     ]
    },
    {
     "name": "stderr",
     "output_type": "stream",
     "text": [
      "[*********************100%***********************]  1 of 1 completed\n",
      "/Library/Frameworks/Python.framework/Versions/3.13/lib/python3.13/site-packages/sklearn/linear_model/_logistic.py:465: ConvergenceWarning: lbfgs failed to converge (status=1):\n",
      "STOP: TOTAL NO. OF ITERATIONS REACHED LIMIT.\n",
      "\n",
      "Increase the number of iterations (max_iter) or scale the data as shown in:\n",
      "    https://scikit-learn.org/stable/modules/preprocessing.html\n",
      "Please also refer to the documentation for alternative solver options:\n",
      "    https://scikit-learn.org/stable/modules/linear_model.html#logistic-regression\n",
      "  n_iter_i = _check_optimize_result(\n",
      "/var/folders/yj/l9hmqz8x4ml53637xyb0vkyr0000gn/T/ipykernel_14687/396016468.py:13: FutureWarning: Series.__getitem__ treating keys as positions is deprecated. In a future version, integer keys will always be treated as labels (consistent with DataFrame behavior). To access a value by position, use `ser.iloc[pos]`\n",
      "  if data['Predicted_Signal'][i] == 1:\n",
      "/var/folders/yj/l9hmqz8x4ml53637xyb0vkyr0000gn/T/ipykernel_14687/396016468.py:15: FutureWarning: Series.__getitem__ treating keys as positions is deprecated. In a future version, integer keys will always be treated as labels (consistent with DataFrame behavior). To access a value by position, use `ser.iloc[pos]`\n",
      "  elif data['Predicted_Signal'][i] == -1:\n"
     ]
    },
    {
     "name": "stdout",
     "output_type": "stream",
     "text": [
      "Model Accuracy: 0.80\n"
     ]
    },
    {
     "ename": "KeyError",
     "evalue": "0",
     "output_type": "error",
     "traceback": [
      "\u001b[31m---------------------------------------------------------------------------\u001b[39m",
      "\u001b[31mKeyError\u001b[39m                                  Traceback (most recent call last)",
      "\u001b[36mFile \u001b[39m\u001b[32m/Library/Frameworks/Python.framework/Versions/3.13/lib/python3.13/site-packages/pandas/core/indexes/base.py:3805\u001b[39m, in \u001b[36mIndex.get_loc\u001b[39m\u001b[34m(self, key)\u001b[39m\n\u001b[32m   3804\u001b[39m \u001b[38;5;28;01mtry\u001b[39;00m:\n\u001b[32m-> \u001b[39m\u001b[32m3805\u001b[39m     \u001b[38;5;28;01mreturn\u001b[39;00m \u001b[38;5;28;43mself\u001b[39;49m\u001b[43m.\u001b[49m\u001b[43m_engine\u001b[49m\u001b[43m.\u001b[49m\u001b[43mget_loc\u001b[49m\u001b[43m(\u001b[49m\u001b[43mcasted_key\u001b[49m\u001b[43m)\u001b[49m\n\u001b[32m   3806\u001b[39m \u001b[38;5;28;01mexcept\u001b[39;00m \u001b[38;5;167;01mKeyError\u001b[39;00m \u001b[38;5;28;01mas\u001b[39;00m err:\n",
      "\u001b[36mFile \u001b[39m\u001b[32mindex.pyx:167\u001b[39m, in \u001b[36mpandas._libs.index.IndexEngine.get_loc\u001b[39m\u001b[34m()\u001b[39m\n",
      "\u001b[36mFile \u001b[39m\u001b[32mindex.pyx:196\u001b[39m, in \u001b[36mpandas._libs.index.IndexEngine.get_loc\u001b[39m\u001b[34m()\u001b[39m\n",
      "\u001b[36mFile \u001b[39m\u001b[32mpandas/_libs/hashtable_class_helper.pxi:7081\u001b[39m, in \u001b[36mpandas._libs.hashtable.PyObjectHashTable.get_item\u001b[39m\u001b[34m()\u001b[39m\n",
      "\u001b[36mFile \u001b[39m\u001b[32mpandas/_libs/hashtable_class_helper.pxi:7089\u001b[39m, in \u001b[36mpandas._libs.hashtable.PyObjectHashTable.get_item\u001b[39m\u001b[34m()\u001b[39m\n",
      "\u001b[31mKeyError\u001b[39m: 0",
      "\nThe above exception was the direct cause of the following exception:\n",
      "\u001b[31mKeyError\u001b[39m                                  Traceback (most recent call last)",
      "\u001b[36mCell\u001b[39m\u001b[36m \u001b[39m\u001b[32mIn[82]\u001b[39m\u001b[32m, line 25\u001b[39m\n\u001b[32m     22\u001b[39m ticker = \u001b[38;5;28minput\u001b[39m(\u001b[33m\"\u001b[39m\u001b[33mEnter the stock ticker symbol (e.g., AAPL, MSFT, TSLA): \u001b[39m\u001b[33m\"\u001b[39m).strip().upper()\n\u001b[32m     24\u001b[39m \u001b[38;5;66;03m# Analyze the stock\u001b[39;00m\n\u001b[32m---> \u001b[39m\u001b[32m25\u001b[39m \u001b[43manalyze_stock\u001b[49m\u001b[43m(\u001b[49m\u001b[43mticker\u001b[49m\u001b[43m)\u001b[49m\n",
      "\u001b[36mCell\u001b[39m\u001b[36m \u001b[39m\u001b[32mIn[82]\u001b[39m\u001b[32m, line 13\u001b[39m, in \u001b[36manalyze_stock\u001b[39m\u001b[34m(ticker)\u001b[39m\n\u001b[32m     10\u001b[39m model = train_model(data)\n\u001b[32m     12\u001b[39m \u001b[38;5;66;03m# Generate alerts\u001b[39;00m\n\u001b[32m---> \u001b[39m\u001b[32m13\u001b[39m alerts = \u001b[43mgenerate_alerts\u001b[49m\u001b[43m(\u001b[49m\u001b[43mdata\u001b[49m\u001b[43m,\u001b[49m\u001b[43m \u001b[49m\u001b[43mmodel\u001b[49m\u001b[43m)\u001b[49m\n\u001b[32m     15\u001b[39m \u001b[38;5;66;03m# Print alerts\u001b[39;00m\n\u001b[32m     16\u001b[39m \u001b[38;5;28mprint\u001b[39m(\u001b[33mf\u001b[39m\u001b[33m\"\u001b[39m\u001b[38;5;130;01m\\n\u001b[39;00m\u001b[33mAlerts for \u001b[39m\u001b[38;5;132;01m{\u001b[39;00mticker\u001b[38;5;132;01m}\u001b[39;00m\u001b[33m:\u001b[39m\u001b[33m\"\u001b[39m)\n",
      "\u001b[36mCell\u001b[39m\u001b[36m \u001b[39m\u001b[32mIn[81]\u001b[39m\u001b[32m, line 18\u001b[39m, in \u001b[36mgenerate_alerts\u001b[39m\u001b[34m(data, model)\u001b[39m\n\u001b[32m     16\u001b[39m         alerts.append((\u001b[33m\"\u001b[39m\u001b[33mSell\u001b[39m\u001b[33m\"\u001b[39m, data.index[i], data[\u001b[33m'\u001b[39m\u001b[33mClose\u001b[39m\u001b[33m'\u001b[39m][i]))\n\u001b[32m     17\u001b[39m     \u001b[38;5;28;01melse\u001b[39;00m:\n\u001b[32m---> \u001b[39m\u001b[32m18\u001b[39m         alerts.append((\u001b[33m\"\u001b[39m\u001b[33mHold\u001b[39m\u001b[33m\"\u001b[39m, data.index[i], \u001b[43mdata\u001b[49m\u001b[43m[\u001b[49m\u001b[33;43m'\u001b[39;49m\u001b[33;43mClose\u001b[39;49m\u001b[33;43m'\u001b[39;49m\u001b[43m]\u001b[49m\u001b[43m[\u001b[49m\u001b[43mi\u001b[49m\u001b[43m]\u001b[49m))\n\u001b[32m     20\u001b[39m \u001b[38;5;28;01mreturn\u001b[39;00m alerts\n",
      "\u001b[36mFile \u001b[39m\u001b[32m/Library/Frameworks/Python.framework/Versions/3.13/lib/python3.13/site-packages/pandas/core/frame.py:4102\u001b[39m, in \u001b[36mDataFrame.__getitem__\u001b[39m\u001b[34m(self, key)\u001b[39m\n\u001b[32m   4100\u001b[39m \u001b[38;5;28;01mif\u001b[39;00m \u001b[38;5;28mself\u001b[39m.columns.nlevels > \u001b[32m1\u001b[39m:\n\u001b[32m   4101\u001b[39m     \u001b[38;5;28;01mreturn\u001b[39;00m \u001b[38;5;28mself\u001b[39m._getitem_multilevel(key)\n\u001b[32m-> \u001b[39m\u001b[32m4102\u001b[39m indexer = \u001b[38;5;28;43mself\u001b[39;49m\u001b[43m.\u001b[49m\u001b[43mcolumns\u001b[49m\u001b[43m.\u001b[49m\u001b[43mget_loc\u001b[49m\u001b[43m(\u001b[49m\u001b[43mkey\u001b[49m\u001b[43m)\u001b[49m\n\u001b[32m   4103\u001b[39m \u001b[38;5;28;01mif\u001b[39;00m is_integer(indexer):\n\u001b[32m   4104\u001b[39m     indexer = [indexer]\n",
      "\u001b[36mFile \u001b[39m\u001b[32m/Library/Frameworks/Python.framework/Versions/3.13/lib/python3.13/site-packages/pandas/core/indexes/base.py:3812\u001b[39m, in \u001b[36mIndex.get_loc\u001b[39m\u001b[34m(self, key)\u001b[39m\n\u001b[32m   3807\u001b[39m     \u001b[38;5;28;01mif\u001b[39;00m \u001b[38;5;28misinstance\u001b[39m(casted_key, \u001b[38;5;28mslice\u001b[39m) \u001b[38;5;129;01mor\u001b[39;00m (\n\u001b[32m   3808\u001b[39m         \u001b[38;5;28misinstance\u001b[39m(casted_key, abc.Iterable)\n\u001b[32m   3809\u001b[39m         \u001b[38;5;129;01mand\u001b[39;00m \u001b[38;5;28many\u001b[39m(\u001b[38;5;28misinstance\u001b[39m(x, \u001b[38;5;28mslice\u001b[39m) \u001b[38;5;28;01mfor\u001b[39;00m x \u001b[38;5;129;01min\u001b[39;00m casted_key)\n\u001b[32m   3810\u001b[39m     ):\n\u001b[32m   3811\u001b[39m         \u001b[38;5;28;01mraise\u001b[39;00m InvalidIndexError(key)\n\u001b[32m-> \u001b[39m\u001b[32m3812\u001b[39m     \u001b[38;5;28;01mraise\u001b[39;00m \u001b[38;5;167;01mKeyError\u001b[39;00m(key) \u001b[38;5;28;01mfrom\u001b[39;00m\u001b[38;5;250m \u001b[39m\u001b[34;01merr\u001b[39;00m\n\u001b[32m   3813\u001b[39m \u001b[38;5;28;01mexcept\u001b[39;00m \u001b[38;5;167;01mTypeError\u001b[39;00m:\n\u001b[32m   3814\u001b[39m     \u001b[38;5;66;03m# If we have a listlike key, _check_indexing_error will raise\u001b[39;00m\n\u001b[32m   3815\u001b[39m     \u001b[38;5;66;03m#  InvalidIndexError. Otherwise we fall through and re-raise\u001b[39;00m\n\u001b[32m   3816\u001b[39m     \u001b[38;5;66;03m#  the TypeError.\u001b[39;00m\n\u001b[32m   3817\u001b[39m     \u001b[38;5;28mself\u001b[39m._check_indexing_error(key)\n",
      "\u001b[31mKeyError\u001b[39m: 0"
     ]
    }
   ],
   "source": [
    "def analyze_stock(ticker):\n",
    "    \"\"\"\n",
    "    Analyzes a stock and provides buy/sell/hold alerts.\n",
    "    \"\"\"\n",
    "    # Fetch and prepare data\n",
    "    data = get_stock_data(ticker)\n",
    "    data = prepare_data(data)\n",
    "\n",
    "    # Train the model\n",
    "    model = train_model(data)\n",
    "\n",
    "    # Generate alerts\n",
    "    alerts = generate_alerts(data, model)\n",
    "\n",
    "    # Print alerts\n",
    "    print(f\"\\nAlerts for {ticker}:\")\n",
    "    for alert in alerts:\n",
    "        print(f\"{alert[0]} Signal at {alert[1]}: Price: {alert[2]}\")\n",
    "\n",
    "if __name__ == \"__main__\":\n",
    "    # Input stock ticker from the user\n",
    "    ticker = input(\"Enter the stock ticker symbol (e.g., AAPL, MSFT, TSLA): \").strip().upper()\n",
    "\n",
    "    # Analyze the stock\n",
    "    analyze_stock(ticker)"
   ]
  },
  {
   "cell_type": "code",
   "execution_count": null,
   "id": "e842e7e4-ad80-4e0c-bb81-1ab9bb1ab8c0",
   "metadata": {},
   "outputs": [],
   "source": []
  }
 ],
 "metadata": {
  "kernelspec": {
   "display_name": "Python 3 (ipykernel)",
   "language": "python",
   "name": "python3"
  },
  "language_info": {
   "codemirror_mode": {
    "name": "ipython",
    "version": 3
   },
   "file_extension": ".py",
   "mimetype": "text/x-python",
   "name": "python",
   "nbconvert_exporter": "python",
   "pygments_lexer": "ipython3",
   "version": "3.13.2"
  }
 },
 "nbformat": 4,
 "nbformat_minor": 5
}
